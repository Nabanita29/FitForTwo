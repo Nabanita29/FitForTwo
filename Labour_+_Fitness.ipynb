{
  "nbformat": 4,
  "nbformat_minor": 0,
  "metadata": {
    "colab": {
      "provenance": [],
      "authorship_tag": "ABX9TyMsLCux4Gnvq2hx7euzxmPo",
      "include_colab_link": true
    },
    "kernelspec": {
      "name": "python3",
      "display_name": "Python 3"
    },
    "language_info": {
      "name": "python"
    }
  },
  "cells": [
    {
      "cell_type": "markdown",
      "metadata": {
        "id": "view-in-github",
        "colab_type": "text"
      },
      "source": [
        "<a href=\"https://colab.research.google.com/github/Nabanita29/FitForTwo/blob/main/Labour_%2B_Fitness.ipynb\" target=\"_parent\"><img src=\"https://colab.research.google.com/assets/colab-badge.svg\" alt=\"Open In Colab\"/></a>"
      ]
    },
    {
      "cell_type": "code",
      "source": [
        "import pandas as pd\n",
        "df = pd.read_excel('/content/Risk assessment.xlsx')\n"
      ],
      "metadata": {
        "id": "C1MZB_50TD9p"
      },
      "execution_count": 10,
      "outputs": []
    },
    {
      "cell_type": "code",
      "source": [
        "# Importing necessary libraries\n",
        "import pandas as pd\n",
        "from sklearn import preprocessing\n",
        "from sklearn.compose import ColumnTransformer\n",
        "from sklearn.preprocessing import StandardScaler\n",
        "from sklearn.preprocessing import OneHotEncoder\n",
        "\n",
        "\n",
        "# Split 'Blood Pressure (mmHg)' into two separate columns for systolic and diastolic pressures\n",
        "df[['Systolic BP', 'Diastolic BP']] = df['Blood Pressure (mmHg)'].str.split('/', expand=True)\n",
        "\n",
        "# Convert new columns to numeric\n",
        "df['Systolic BP'] = pd.to_numeric(df['Systolic BP'])\n",
        "df['Diastolic BP'] = pd.to_numeric(df['Diastolic BP'])\n",
        "\n",
        "# Drop original Blood Pressure column\n",
        "df.drop('Blood Pressure (mmHg)', axis=1, inplace=True)\n",
        "\n",
        "# Encode categorical variables\n",
        "categorical_features = ['Ethnicity', 'Medical History', 'Previous Complications',\n",
        "                        'Exercise Routine', 'Smoking Status', 'Alcohol Consumption',\n",
        "                        'Dietary Habits', 'Outcome']\n",
        "\n",
        "# Normalize the continuous variables\n",
        "continuous_features = ['Age', 'Height (cm)', 'Weight (kg)', 'Gestational Age (weeks)',\n",
        "                       'Previous Pregnancies', 'Systolic BP', 'Diastolic BP',\n",
        "                       'Blood Glucose (mg/dL)']\n",
        "scaler = StandardScaler()\n",
        "\n",
        "df[continuous_features] = scaler.fit_transform(df[continuous_features])\n",
        "df = pd.get_dummies(df, columns=categorical_features)  # One hot encoding for categorical variables\n",
        "\n",
        "# Defining X and Y\n",
        "y = df['Outcome_Healthy birth']  # Change this based on the different outcomes\n",
        "X = df.drop(columns=['Outcome_Healthy birth', 'Outcome_Preterm birth', 'Outcome_Preterm labor'])  # Drop all outcome columns for X\n"
      ],
      "metadata": {
        "id": "vQnrdl9IgE7E"
      },
      "execution_count": 11,
      "outputs": []
    },
    {
      "cell_type": "code",
      "source": [
        "from sklearn.model_selection import train_test_split\n",
        "\n",
        "X_train, X_test, y_train, y_test = train_test_split(X, y, test_size=0.2, random_state=42)\n"
      ],
      "metadata": {
        "id": "wpyesNaHUL5q"
      },
      "execution_count": 12,
      "outputs": []
    },
    {
      "cell_type": "code",
      "source": [
        "# Importing necessary libraries\n",
        "from tensorflow.keras.models import Sequential\n",
        "from tensorflow.keras.layers import Dense"
      ],
      "metadata": {
        "id": "j_Ll-cu0T4Ah"
      },
      "execution_count": 6,
      "outputs": []
    },
    {
      "cell_type": "code",
      "source": [
        "\n",
        "\n",
        "# Number of features in the data (after one-hot-encoding, minus the outcome columns)\n",
        "n_features = X_train.shape[1]\n",
        "\n",
        "# Initialize the constructor\n",
        "model = Sequential()\n",
        "\n",
        "# Add an input layer\n",
        "model.add(Dense(32, activation='relu', input_shape=(n_features,)))\n",
        "\n",
        "# Add one hidden layer\n",
        "model.add(Dense(16, activation='relu'))\n",
        "\n",
        "# Add an output layer\n",
        "model.add(Dense(1, activation='sigmoid'))\n",
        "\n",
        "model.compile(loss='binary_crossentropy',\n",
        "              optimizer='adam',\n",
        "              metrics=['accuracy'])\n",
        "\n",
        "model.fit(X_train, y_train,epochs=20, batch_size=32, verbose=1)\n"
      ],
      "metadata": {
        "colab": {
          "base_uri": "https://localhost:8080/"
        },
        "id": "vtIDCPMQTH1E",
        "outputId": "4e2159ac-c725-418d-c293-8112acd7e629"
      },
      "execution_count": 13,
      "outputs": [
        {
          "output_type": "stream",
          "name": "stdout",
          "text": [
            "Epoch 1/20\n",
            "2/2 [==============================] - 1s 13ms/step - loss: 1.0580 - accuracy: 0.7368\n",
            "Epoch 2/20\n",
            "2/2 [==============================] - 0s 6ms/step - loss: 0.9981 - accuracy: 0.7368\n",
            "Epoch 3/20\n",
            "2/2 [==============================] - 0s 7ms/step - loss: 0.9472 - accuracy: 0.7632\n",
            "Epoch 4/20\n",
            "2/2 [==============================] - 0s 6ms/step - loss: 0.8919 - accuracy: 0.7632\n",
            "Epoch 5/20\n",
            "2/2 [==============================] - 0s 6ms/step - loss: 0.8408 - accuracy: 0.7632\n",
            "Epoch 6/20\n",
            "2/2 [==============================] - 0s 11ms/step - loss: 0.7935 - accuracy: 0.7632\n",
            "Epoch 7/20\n",
            "2/2 [==============================] - 0s 8ms/step - loss: 0.7440 - accuracy: 0.7632\n",
            "Epoch 8/20\n",
            "2/2 [==============================] - 0s 6ms/step - loss: 0.6930 - accuracy: 0.7632\n",
            "Epoch 9/20\n",
            "2/2 [==============================] - 0s 8ms/step - loss: 0.6540 - accuracy: 0.7632\n",
            "Epoch 10/20\n",
            "2/2 [==============================] - 0s 8ms/step - loss: 0.6085 - accuracy: 0.7895\n",
            "Epoch 11/20\n",
            "2/2 [==============================] - 0s 7ms/step - loss: 0.5696 - accuracy: 0.7895\n",
            "Epoch 12/20\n",
            "2/2 [==============================] - 0s 10ms/step - loss: 0.5334 - accuracy: 0.7895\n",
            "Epoch 13/20\n",
            "2/2 [==============================] - 0s 6ms/step - loss: 0.5059 - accuracy: 0.7895\n",
            "Epoch 14/20\n",
            "2/2 [==============================] - 0s 6ms/step - loss: 0.4782 - accuracy: 0.7895\n",
            "Epoch 15/20\n",
            "2/2 [==============================] - 0s 7ms/step - loss: 0.4564 - accuracy: 0.7895\n",
            "Epoch 16/20\n",
            "2/2 [==============================] - 0s 6ms/step - loss: 0.4356 - accuracy: 0.7895\n",
            "Epoch 17/20\n",
            "2/2 [==============================] - 0s 6ms/step - loss: 0.4197 - accuracy: 0.7895\n",
            "Epoch 18/20\n",
            "2/2 [==============================] - 0s 8ms/step - loss: 0.4067 - accuracy: 0.8158\n",
            "Epoch 19/20\n",
            "2/2 [==============================] - 0s 9ms/step - loss: 0.3936 - accuracy: 0.8158\n",
            "Epoch 20/20\n",
            "2/2 [==============================] - 0s 7ms/step - loss: 0.3811 - accuracy: 0.8158\n"
          ]
        },
        {
          "output_type": "execute_result",
          "data": {
            "text/plain": [
              "<keras.callbacks.History at 0x7b81b86cfd30>"
            ]
          },
          "metadata": {},
          "execution_count": 13
        }
      ]
    },
    {
      "cell_type": "code",
      "source": [
        "# User input\n",
        "patient_id = input(\"Enter Patient ID: \")\n",
        "age = input(\"Enter Age: \")\n",
        "height = input(\"Enter Height in cm: \")\n",
        "weight = input(\"Enter Weight in kg: \")\n",
        "ethnicity = input(\"Enter Ethnicity: \")\n",
        "medical_history = input(\"Enter Medical History: \")\n",
        "gestational_age = input(\"Enter Gestational Age in weeks: \")\n",
        "previous_pregnancies = input(\"Enter Number of Previous Pregnancies: \")\n",
        "previous_complications = input(\"Enter Previous Complications: \")\n",
        "blood_pressure = input(\"Enter Blood Pressure (mmHg) like '120/80': \")\n",
        "blood_glucose = input(\"Enter blood glucose:\")\n",
        "exercise_routine = input(\"Enter Exercise Routine: \")\n",
        "smoking_status = input(\"Enter Smoking Status: \")\n",
        "alcohol_consumption = input(\"Enter Alcohol Consumption: \")\n",
        "dietary_habits = input(\"Enter Dietary Habits: \")\n",
        "\n",
        "# Split 'Blood Pressure' into 'Systolic BP' and 'Diastolic BP'\n",
        "systolic_bp, diastolic_bp = map(int, blood_pressure.split('/'))\n",
        "\n",
        "# Create a DataFrame for the user input\n",
        "user_input = pd.DataFrame({'Patient ID': [patient_id],\n",
        "                           'Age': [age],\n",
        "                           'Height (cm)': [height],\n",
        "                           'Weight (kg)': [weight],\n",
        "                           'Ethnicity': [ethnicity],\n",
        "                           'Medical History': [medical_history],\n",
        "                           'Gestational Age (weeks)': [gestational_age],\n",
        "                           'Previous Pregnancies': [previous_pregnancies],\n",
        "                           'Previous Complications': [previous_complications],\n",
        "                           'Systolic BP': [systolic_bp],\n",
        "                           'Diastolic BP': [diastolic_bp],\n",
        "                           'Blood Glucose (mg/dL)' : [blood_glucose],\n",
        "                           'Exercise Routine': [exercise_routine],\n",
        "                           'Smoking Status': [smoking_status],\n",
        "                           'Alcohol Consumption': [alcohol_consumption],\n",
        "                           'Dietary Habits': [dietary_habits]})\n"
      ],
      "metadata": {
        "colab": {
          "base_uri": "https://localhost:8080/"
        },
        "id": "QdDJVcpOT5_Y",
        "outputId": "03f09569-cb1e-4af4-aae8-eeec41dd2cbc"
      },
      "execution_count": 21,
      "outputs": [
        {
          "name": "stdout",
          "output_type": "stream",
          "text": [
            "Enter Patient ID: 17\n",
            "Enter Age: 25\n",
            "Enter Height in cm: 152\n",
            "Enter Weight in kg: 52\n",
            "Enter Ethnicity: Indian\n",
            "Enter Medical History: None\n",
            "Enter Gestational Age in weeks: 14\n",
            "Enter Number of Previous Pregnancies: 1\n",
            "Enter Previous Complications: None\n",
            "Enter Blood Pressure (mmHg) like '120/80': 120/80\n",
            "Enter blood glucose:52\n",
            "Enter Exercise Routine: Light\n",
            "Enter Smoking Status: Non Smoker\n",
            "Enter Alcohol Consumption: None\n",
            "Enter Dietary Habits: Balanced\n"
          ]
        }
      ]
    },
    {
      "cell_type": "code",
      "source": [
        "# Scale numerical features\n",
        "columns_to_scale = ['Age', 'Height (cm)', 'Weight (kg)', 'Gestational Age (weeks)',\n",
        "                    'Previous Pregnancies', 'Systolic BP', 'Diastolic BP','Blood Glucose (mg/dL)']\n",
        "user_input[columns_to_scale] = scaler.transform(user_input[columns_to_scale])\n",
        "\n",
        "# Create a one-hot encoded version of the user input\n",
        "user_input_encoded = pd.get_dummies(user_input)\n",
        "\n",
        "# Get missing columns in the user input\n",
        "missing_cols = set(X.columns) - set(user_input_encoded.columns)\n",
        "\n",
        "# Add missing columns in user_input_encoded with default value equal to 0\n",
        "for col in missing_cols:\n",
        "    user_input_encoded[col] = 0\n",
        "\n",
        "# Ensure the order of column in the user input is in the same order as in X\n",
        "user_input_encoded = user_input_encoded[X.columns]\n",
        "\n",
        "# Generate prediction for user input using the model\n",
        "prediction = model.predict(user_input_encoded)\n",
        "\n",
        "# Print prediction in words\n",
        "if prediction < 0.5:\n",
        "    print(\"The patient is at risk of preterm birth.\")\n",
        "else:\n",
        "    print(\"The patient is not at risk of preterm birth.\")\n",
        "\n",
        ""
      ],
      "metadata": {
        "colab": {
          "base_uri": "https://localhost:8080/"
        },
        "id": "yvAqTKWTU9di",
        "outputId": "045f56e5-4eaf-41a1-b9aa-ac0ef440fd64"
      },
      "execution_count": 31,
      "outputs": [
        {
          "output_type": "stream",
          "name": "stdout",
          "text": [
            "1/1 [==============================] - 0s 25ms/step\n",
            "The patient is at risk of preterm birth.\n"
          ]
        }
      ]
    },
    {
      "cell_type": "code",
      "source": [
        "if prediction > 0.5:\n",
        "    user_input = input(\"You are not at risk of preterm birth. Would you like to see some exercise videos? (Y/N): \")\n",
        "\n",
        "    if user_input == \"Y\":\n",
        "        trimester = input(\"Which trimester are you in? (1/2/3): \")\n",
        "\n",
        "        if trimester == \"1\":\n",
        "            print(\"https://www.youtube.com/watch?v=Ia6dNwVs1M8\")\n",
        "        elif trimester == \"2\":\n",
        "            print(\"https://www.youtube.com/watch?v=qJ3L-YztHog\")\n",
        "        elif trimester == \"3\":\n",
        "            print(\"https://www.youtube.com/watch?v=PPvMR2pfMg0\")\n",
        "            print(\"https://www.youtube.com/watch?v=EYRz6dpAm1w\")\n",
        "        else:\n",
        "            print(\"Invalid input for trimester. Please enter 1, 2, or 3.\")\n",
        "    else:\n",
        "        print(\"Okay, take care!\")\n",
        "else:\n",
        "    print(\"You might be at risk of preterm birth. Please consult your healthcare provider.\")\n"
      ],
      "metadata": {
        "colab": {
          "base_uri": "https://localhost:8080/"
        },
        "id": "05owZephcn7M",
        "outputId": "5cb1a00f-5c14-4da4-d343-6974c3cd4ba5"
      },
      "execution_count": 41,
      "outputs": [
        {
          "output_type": "stream",
          "name": "stdout",
          "text": [
            "You might be at risk of preterm birth. Please consult your healthcare provider.\n"
          ]
        }
      ]
    },
    {
      "cell_type": "code",
      "source": [],
      "metadata": {
        "id": "cpTRzRUywyXR"
      },
      "execution_count": null,
      "outputs": []
    }
  ]
}