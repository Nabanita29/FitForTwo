{
  "cells": [
    {
      "cell_type": "markdown",
      "metadata": {
        "id": "view-in-github",
        "colab_type": "text"
      },
      "source": [
        "<a href=\"https://colab.research.google.com/github/Nabanita29/FitForTwo/blob/main/PREGNANCY_DIET_RECOMMENDATION.ipynb\" target=\"_parent\"><img src=\"https://colab.research.google.com/assets/colab-badge.svg\" alt=\"Open In Colab\"/></a>"
      ]
    },
    {
      "cell_type": "code",
      "execution_count": 46,
      "metadata": {
        "id": "vEFWA-VN9G8-"
      },
      "outputs": [],
      "source": [
        "import pandas as pd\n",
        "from sklearn.preprocessing import OneHotEncoder\n",
        "from sklearn.preprocessing import MinMaxScaler\n",
        "\n",
        "# Read the data into the DataFrame 'df'\n",
        "df = pd.read_excel('/content/pregnant women diet.xlsx')\n",
        "\n",
        "# Define columns to one-hot encode\n",
        "columns_to_encode = ['Pregnancy State', 'Allergies', 'Dietary Restrictions', 'Nutritional Needs']\n",
        "\n",
        "# Create an instance of the OneHotEncoder\n",
        "encoder = OneHotEncoder(handle_unknown='ignore')\n",
        "\n",
        "# Fit and transform the selected columns\n",
        "encoded_columns = encoder.fit_transform(df[columns_to_encode])\n",
        "\n",
        "# Create a DataFrame from the encoded columns\n",
        "encoded_df = pd.DataFrame(encoded_columns.toarray(), columns=encoder.get_feature_names_out(columns_to_encode))\n",
        "\n",
        "# Concatenate the encoded DataFrame with the original DataFrame after dropping the original columns\n",
        "df_encoded = pd.concat([df.drop(columns=columns_to_encode), encoded_df], axis=1)\n",
        "\n",
        "# Define columns to scale using MinMaxScaler\n",
        "columns_to_scale = ['Age', 'Calories (kcal)', 'Protein (g)', 'Carbohydrates (g)', 'Fat (g)', 'Fiber (g)', 'Folate (mcg)', 'Iron (mg)', 'Calcium (mg)', 'Vitamin D (IU)']\n",
        "\n",
        "# Create an instance of the MinMaxScaler\n",
        "scaler = MinMaxScaler()\n",
        "\n",
        "# Fit the scaler to columns_to_scale\n",
        "scaler.fit(df_encoded[columns_to_scale])\n",
        "\n",
        "# Transform the train and test sets\n",
        "df_encoded[columns_to_scale] = scaler.transform(df_encoded[columns_to_scale])\n",
        "\n",
        "# Create one-hot encoded version for target variable 'Food Item'\n",
        "food_item_dummies = pd.get_dummies(df_encoded['Food Item'])\n",
        "\n",
        "# Data Preparation\n",
        "X = df_encoded.drop('Food Item', axis=1)\n",
        "y = food_item_dummies\n",
        "\n",
        "from sklearn.model_selection import train_test_split\n",
        "\n",
        "# Split the data into training and testing sets only once\n",
        "X_train, X_test, y_train, y_test = train_test_split(X, y, test_size=0.2, random_state=42)\n"
      ]
    },
    {
      "cell_type": "code",
      "source": [
        "from keras.models import Sequential\n",
        "from keras.layers import Dense\n",
        "from keras.wrappers.scikit_learn import KerasClassifier\n",
        "from sklearn.model_selection import cross_val_score, KFold\n",
        "\n",
        "def create_model():\n",
        "  model = Sequential()\n",
        "  model.add(Dense(32, input_dim=X_train.shape[1], activation='relu'))\n",
        "  model.add(Dense(16, activation='relu'))\n",
        "  model.add(Dense(y_train.shape[1], activation='softmax'))  # output layer\n",
        "  model.compile(loss='categorical_crossentropy', optimizer='adam', metrics=['accuracy'])\n",
        "  return model\n",
        "\n",
        "estimator = KerasClassifier(build_fn=create_model, epochs=20, batch_size=5, verbose=0)\n",
        "\n",
        "kfold = KFold(n_splits=10, shuffle=True)\n",
        "results = cross_val_score(estimator, X_train, y_train, cv=kfold)\n",
        "print(\"Baseline: %.2f%% (%.2f%%)\" % (results.mean()*100, results.std()*100))\n",
        "\n",
        "model = create_model()\n",
        "model.fit(X_train, y_train, epochs=20, batch_size=5, verbose=1)\n",
        "predictions = model.predict(X_test)\n",
        "\n",
        "\n"
      ],
      "metadata": {
        "colab": {
          "base_uri": "https://localhost:8080/"
        },
        "id": "5MqWgQT65MfY",
        "outputId": "a0115081-0b08-41c3-e4bc-c920d5c467db"
      },
      "execution_count": 47,
      "outputs": [
        {
          "output_type": "stream",
          "name": "stderr",
          "text": [
            "<ipython-input-47-447271514a9e>:14: DeprecationWarning: KerasClassifier is deprecated, use Sci-Keras (https://github.com/adriangb/scikeras) instead. See https://www.adriangb.com/scikeras/stable/migration.html for help migrating.\n",
            "  estimator = KerasClassifier(build_fn=create_model, epochs=20, batch_size=5, verbose=0)\n"
          ]
        },
        {
          "output_type": "stream",
          "name": "stdout",
          "text": [
            "Baseline: 1.25% (3.75%)\n",
            "Epoch 1/20\n",
            "16/16 [==============================] - 1s 2ms/step - loss: 4.4608 - accuracy: 0.0000e+00\n",
            "Epoch 2/20\n",
            "16/16 [==============================] - 0s 3ms/step - loss: 4.4217 - accuracy: 0.0000e+00\n",
            "Epoch 3/20\n",
            "16/16 [==============================] - 0s 3ms/step - loss: 4.3869 - accuracy: 0.0250\n",
            "Epoch 4/20\n",
            "16/16 [==============================] - 0s 2ms/step - loss: 4.3534 - accuracy: 0.0500\n",
            "Epoch 5/20\n",
            "16/16 [==============================] - 0s 2ms/step - loss: 4.3113 - accuracy: 0.0750\n",
            "Epoch 6/20\n",
            "16/16 [==============================] - 0s 2ms/step - loss: 4.2640 - accuracy: 0.0750\n",
            "Epoch 7/20\n",
            "16/16 [==============================] - 0s 2ms/step - loss: 4.2115 - accuracy: 0.0750\n",
            "Epoch 8/20\n",
            "16/16 [==============================] - 0s 2ms/step - loss: 4.1524 - accuracy: 0.0750\n",
            "Epoch 9/20\n",
            "16/16 [==============================] - 0s 2ms/step - loss: 4.0913 - accuracy: 0.0625\n",
            "Epoch 10/20\n",
            "16/16 [==============================] - 0s 2ms/step - loss: 4.0231 - accuracy: 0.0625\n",
            "Epoch 11/20\n",
            "16/16 [==============================] - 0s 2ms/step - loss: 3.9501 - accuracy: 0.0625\n",
            "Epoch 12/20\n",
            "16/16 [==============================] - 0s 3ms/step - loss: 3.8766 - accuracy: 0.0875\n",
            "Epoch 13/20\n",
            "16/16 [==============================] - 0s 2ms/step - loss: 3.7992 - accuracy: 0.0875\n",
            "Epoch 14/20\n",
            "16/16 [==============================] - 0s 3ms/step - loss: 3.7191 - accuracy: 0.1125\n",
            "Epoch 15/20\n",
            "16/16 [==============================] - 0s 3ms/step - loss: 3.6371 - accuracy: 0.1375\n",
            "Epoch 16/20\n",
            "16/16 [==============================] - 0s 2ms/step - loss: 3.5489 - accuracy: 0.1500\n",
            "Epoch 17/20\n",
            "16/16 [==============================] - 0s 2ms/step - loss: 3.4599 - accuracy: 0.1625\n",
            "Epoch 18/20\n",
            "16/16 [==============================] - 0s 2ms/step - loss: 3.3648 - accuracy: 0.1750\n",
            "Epoch 19/20\n",
            "16/16 [==============================] - 0s 3ms/step - loss: 3.2695 - accuracy: 0.2000\n",
            "Epoch 20/20\n",
            "16/16 [==============================] - 0s 2ms/step - loss: 3.1705 - accuracy: 0.2625\n",
            "1/1 [==============================] - 0s 66ms/step\n"
          ]
        }
      ]
    },
    {
      "cell_type": "code",
      "source": [
        "#predicting the food item based on nutritional needs, allergies, dietary restrictions, pregnancy state\n",
        "#asking user for the input\n",
        "\n",
        "print('Enter your age:')\n",
        "age = float(input())\n",
        "\n",
        "print('Enter your pregnancy state:')\n",
        "pregnancy_state = input()\n",
        "\n",
        "print('Enter your allergies:')\n",
        "allergies = input()\n",
        "\n",
        "print('Enter your dietary restrictions:')\n",
        "dietary_restrictions = input()\n",
        "\n",
        "print('Enter your nutritional needs:')\n",
        "nutritional_needs = input()\n",
        "\n",
        "print('Enter the calories you want to consume:')\n",
        "calories = float(input())\n",
        "\n",
        "print('Enter the protein you want to consume:')\n",
        "protein = float(input())\n",
        "\n",
        "print('Enter the carbohydrates you want to consume:')\n",
        "carbohydrates = float(input())\n",
        "\n",
        "print('Enter the fat you want to consume:')\n",
        "fat = float(input())\n",
        "\n",
        "print('Enter the fiber you want to consume:')\n",
        "fiber = float(input())\n",
        "\n",
        "print('Enter the folate you want to consume:')\n",
        "folate = float(input())\n",
        "\n",
        "print('Enter the iron you want to consume:')\n",
        "iron = float(input())\n",
        "\n",
        "print('Enter the calcium you want to consume:')\n",
        "calcium = float(input())\n",
        "\n",
        "print('Enter the vitamin D you want to consume:')\n",
        "vitamin_d = float(input())\n",
        "\n",
        "# Create a DataFrame for the user input\n",
        "user_input = pd.DataFrame({'Age': [age],\n",
        "                            'Calories (kcal)': [calories],\n",
        "                            'Protein (g)': [protein],\n",
        "                            'Carbohydrates (g)': [carbohydrates],\n",
        "                            'Fat (g)': [fat],\n",
        "                            'Fiber (g)': [fiber],\n",
        "                            'Folate (mcg)': [folate],\n",
        "                            'Iron (mg)': [iron],\n",
        "                            'Calcium (mg)': [calcium],\n",
        "                            'Vitamin D (IU)': [vitamin_d],\n",
        "                            'Pregnancy State': [pregnancy_state],\n",
        "                            'Allergies': [allergies],\n",
        "                            'Dietary Restrictions': [dietary_restrictions],\n",
        "                            'Nutritional Needs': [nutritional_needs]})\n",
        "\n",
        "\n",
        "# Transform the user input\n",
        "user_input[columns_to_scale] = scaler.transform(user_input[columns_to_scale])\n",
        "\n",
        "# Create one-hot encoded version of the user input\n",
        "user_input_encoded = pd.get_dummies(user_input)\n",
        "\n",
        "# Get missing columns in the user input\n",
        "missing_cols = set(X_train.columns) - set(user_input_encoded.columns)\n",
        "\n",
        "# Add a missing column in user_input_encoded with default value equal to 0\n",
        "for col in missing_cols:\n",
        "    user_input_encoded[col] = 0\n",
        "\n",
        "# Ensure the order of column in the user input is in the same order than in X_train\n",
        "user_input_encoded = user_input_encoded[X_train.columns]\n",
        "\n",
        "# Generate prediction for the user input using the random forest classifier\n",
        "prediction = model.predict(user_input_encoded)\n",
        "\n",
        "# Get the food item corresponding to the predicted food item\n",
        "food_item = food_item_dummies.columns[prediction.argmax(axis=1)[0]]\n"
      ],
      "metadata": {
        "colab": {
          "base_uri": "https://localhost:8080/"
        },
        "id": "9w4Iuzc5Z60o",
        "outputId": "68509a97-465e-45bb-cebf-d852e9272ccc"
      },
      "execution_count": 83,
      "outputs": [
        {
          "output_type": "stream",
          "name": "stdout",
          "text": [
            "Enter your age:\n",
            "25\n",
            "Enter your pregnancy state:\n",
            "Mid\n",
            "Enter your allergies:\n",
            "None\n",
            "Enter your dietary restrictions:\n",
            "None\n",
            "Enter your nutritional needs:\n",
            "Fat\n",
            "Enter the calories you want to consume:\n",
            "100\n",
            "Enter the protein you want to consume:\n",
            "210\n",
            "Enter the carbohydrates you want to consume:\n",
            "100\n",
            "Enter the fat you want to consume:\n",
            "20\n",
            "Enter the fiber you want to consume:\n",
            "10\n",
            "Enter the folate you want to consume:\n",
            "10\n",
            "Enter the iron you want to consume:\n",
            "10\n",
            "Enter the calcium you want to consume:\n",
            "10\n",
            "Enter the vitamin D you want to consume:\n",
            "10\n",
            "1/1 [==============================] - 0s 47ms/step\n"
          ]
        }
      ]
    },
    {
      "cell_type": "code",
      "source": [
        "# Generate prediction probabilities for the user input using the trained model\n",
        "prediction_probs = model.predict(user_input_encoded)\n",
        "\n",
        "# Get the top 5 predicted food items along with their probabilities\n",
        "top_7_indices = prediction_probs.argsort(axis=1)[0][-7:][::-1]\n",
        "top_7_food_items = food_item_dummies.columns[top_7_indices]\n",
        "top_7_probabilities = prediction_probs[0][top_7_indices]\n",
        "\n",
        "# Print the top 5 recommended food items along with their probabilities\n",
        "print('Top 7 recommended food items:')\n",
        "for item, prob in zip(top_7_food_items, top_7_probabilities):\n",
        "    print(f'{item}')\n",
        "\n"
      ],
      "metadata": {
        "colab": {
          "base_uri": "https://localhost:8080/"
        },
        "id": "de-lkkIDaihT",
        "outputId": "610ceee9-1af9-42b2-e2d5-64729563d18a"
      },
      "execution_count": 84,
      "outputs": [
        {
          "output_type": "stream",
          "name": "stdout",
          "text": [
            "1/1 [==============================] - 0s 43ms/step\n",
            "Top 7 recommended food items:\n",
            "Baked Salmon\n",
            "Turkey\n",
            "Baked Chicken and Sweet Potatoes\n",
            "Salmon and Asparagus\n",
            "Mixed Vegetable Salad\n",
            "Baked Cod and Zucchini\n",
            "Cottage Cheese\n"
          ]
        }
      ]
    },
    {
      "cell_type": "code",
      "source": [
        "# List of top 5 recommended food items\n",
        "top_7_food_items = list(top_7_food_items)\n",
        "\n",
        "# Number of food items to select per week (e.g., 3 for 3 food items per week)\n",
        "items_per_week = 3\n",
        "\n",
        "# Number of food items to select per week (e.g., 3 for 3 food items per week)\n",
        "items_per_week = 3\n",
        "\n",
        "def generate_weekly_diet_chart():\n",
        "    # Shuffle the list of top 7 food items to introduce variation\n",
        "    random.shuffle(top_7_food_items)\n",
        "\n",
        "    # Initialize an empty diet chart list\n",
        "    diet_chart = []\n",
        "\n",
        "    # Randomly select 3 food items for each week\n",
        "    weekly_food_items = top_7_food_items[:items_per_week]\n",
        "    diet_chart.append(weekly_food_items)\n",
        "\n",
        "    # Print the diet chart for 1 week\n",
        "    print('Diet Chart for this Week:')\n",
        "    print(f'Include these in your diet this week! : {weekly_food_items}')\n",
        "\n",
        "# Generate the diet chart for the first week\n",
        "generate_weekly_diet_chart()\n",
        "\n",
        "# Prompt the user for continuation\n",
        "while True:\n",
        "    user_input = input('Do you want the diet chart for the next week? (yes/no): ')\n",
        "    if user_input.lower() == 'yes':\n",
        "        generate_weekly_diet_chart()\n",
        "    else:\n",
        "        print('Take care! We will see you again')\n",
        "        break"
      ],
      "metadata": {
        "colab": {
          "base_uri": "https://localhost:8080/"
        },
        "id": "K5_UEYW9c0BS",
        "outputId": "6716ab02-c28d-4e66-d7ec-1c3d529f6f1a"
      },
      "execution_count": 87,
      "outputs": [
        {
          "output_type": "stream",
          "name": "stdout",
          "text": [
            "Diet Chart for this Week:\n",
            "Include these in your diet this week! : ['Cottage Cheese', 'Baked Salmon', 'Salmon and Asparagus']\n",
            "Do you want the diet chart for the next week? (yes/no): yes\n",
            "Diet Chart for this Week:\n",
            "Include these in your diet this week! : ['Turkey', 'Cottage Cheese', 'Salmon and Asparagus']\n",
            "Do you want the diet chart for the next week? (yes/no): yes\n",
            "Diet Chart for this Week:\n",
            "Include these in your diet this week! : ['Baked Chicken and Sweet Potatoes', 'Baked Cod and Zucchini', 'Baked Salmon']\n",
            "Do you want the diet chart for the next week? (yes/no): yes\n",
            "Diet Chart for this Week:\n",
            "Include these in your diet this week! : ['Salmon and Asparagus', 'Mixed Vegetable Salad', 'Baked Cod and Zucchini']\n",
            "Do you want the diet chart for the next week? (yes/no): no\n",
            "Take care! We will see you again\n"
          ]
        }
      ]
    },
    {
      "cell_type": "code",
      "source": [],
      "metadata": {
        "id": "8hmhEnO3ghmH"
      },
      "execution_count": null,
      "outputs": []
    }
  ],
  "metadata": {
    "colab": {
      "provenance": [],
      "authorship_tag": "ABX9TyN+gDzCQqDaaxjKBdWBNpMv",
      "include_colab_link": true
    },
    "kernelspec": {
      "display_name": "Python 3",
      "name": "python3"
    },
    "language_info": {
      "name": "python"
    }
  },
  "nbformat": 4,
  "nbformat_minor": 0
}